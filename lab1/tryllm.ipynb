{
 "cells": [
  {
   "cell_type": "markdown",
   "metadata": {},
   "source": [
    "# Lab 1: Try Cloud-based LLM API Services"
   ]
  },
  {
   "cell_type": "markdown",
   "metadata": {},
   "source": [
    "## You will learn:\n",
    "- First experience how to do run program on the cloud\n",
    "- Learn how to manage API keys\n",
    "- Frist experience of using different LLM APIs\n",
    "- (If you haven't used it before), how to use Jupyter Notebook in VSCode"
   ]
  },
  {
   "cell_type": "markdown",
   "metadata": {},
   "source": [
    "## 0 Preparations"
   ]
  },
  {
   "cell_type": "markdown",
   "metadata": {},
   "source": [
    "### 0.1 Dependencies"
   ]
  },
  {
   "cell_type": "code",
   "execution_count": 37,
   "metadata": {},
   "outputs": [],
   "source": [
    "# requirements.txt contains the basic packages needed to implement this project\n",
    "# We have installed all dependencies in the default image, so you do not have to install them again, if you use the default image.\n",
    "#!pip install -r requirements.txt"
   ]
  },
  {
   "cell_type": "markdown",
   "metadata": {},
   "source": [
    "### 0.2 Saving your API token in a .env file"
   ]
  },
  {
   "cell_type": "code",
   "execution_count": 38,
   "metadata": {},
   "outputs": [],
   "source": [
    "\n",
    "# Instead of hardcoding the OpenAI API key, use the dotenv package to load it securely from environment variables.\n",
    "# \n",
    "# Instructions to do it:\n",
    "# 1. Install the dotenv package if you haven't already by running: `pip install python-dotenv`\n",
    "# 2. Create a new file named .env in the root directory of your project. (AND Never commit it to Git!)\n",
    "# 3. The content in this file should be stored as key-value pair. The .env file is simply a text file with one key-value per line like:\n",
    "# \n",
    "#     # Comment 1\n",
    "#     KEY1=value1\n",
    "#     # Comment 2\n",
    "#     KEY2=value2\n",
    "# \n",
    "# 4. Load the environment variables in your Python code using the dotenv package:\n",
    "# \n",
    "#     from dotenv import load_dotenv\n",
    "#     import os\n",
    "#     load_dotenv()\n",
    "#     openai_api_key = os.environ.get(\"INFINI_API_KEY\")\n",
    "#     openai_base_url = os.environ.get(\"INFINI_BASE_URL\")\n",
    "# \n",
    "# More information see:\n",
    "# \n",
    "# https://pythonjishu.com/ifggzibrpkgavow/ "
   ]
  },
  {
   "cell_type": "markdown",
   "metadata": {},
   "source": [
    "##  1 Using OpenAI API"
   ]
  },
  {
   "cell_type": "markdown",
   "metadata": {},
   "source": [
    "### 1.1 Get response from a public API server"
   ]
  },
  {
   "cell_type": "code",
   "execution_count": 39,
   "metadata": {},
   "outputs": [
    {
     "name": "stdout",
     "output_type": "stream",
     "text": [
      "https://cloud.infini-ai.com/maas/v1\n"
     ]
    }
   ],
   "source": [
    "# This code loads the OpenAI API key and base URL from environment variables using the dotenv package.\n",
    "# It ensures that sensitive information is not hardcoded in the script, enhancing security.\n",
    "\n",
    "from dotenv import load_dotenv\n",
    "import os\n",
    "load_dotenv()\n",
    "openai_api_key = os.environ.get(\"INFINI_API_KEY\")\n",
    "openai_base_url = os.environ.get(\"INFINI_BASE_URL\")\n",
    "\n",
    "print(openai_base_url)  "
   ]
  },
  {
   "cell_type": "code",
   "execution_count": 40,
   "metadata": {},
   "outputs": [
    {
     "name": "stdout",
     "output_type": "stream",
     "text": [
      "ChatCompletion(id='chatcmpl-23a7739619d045ffa1b6b63c430e1c59', choices=[Choice(finish_reason='stop', index=0, logprobs=ChoiceLogprobs(content=[], refusal=None), message=ChatCompletionMessage(content=\"<think>\\nAlright, let me try to figure this out. The user asked who won the World Series in 2020, and I told them it was the Los Angeles Dodgers. Now they're asking where it was played. Hmm, okay, so they probably want the location of the 2020 World Series games.\\n\\nWait, I remember that in 2020, because of the pandemic, the World Series was held in a different way. Instead of alternating between the two teams' home stadiums, they decided to play all the games at one neutral site. That was a change from the usual setup. So, where did they choose?\\n\\nI think it was at Globe Life Field in Arlington, Texas. That was the new ballpark for the Texas Rangers. They opened it in 2019, and I believe it was the first World Series held entirely at one location in modern times. So, the user is probably curious about the unique setup that year.\\n\\nI should confirm that information. Yes, the 2020 World Series was indeed held entirely at Globe Life Field. That makes sense because of the challenges posed by COVID-19, which required a centralized location to minimize travel and exposure risks. So, the answer is Arlington, Texas, at Globe Life Field.\\n\\nI should present that clearly, maybe mentioning that it was the first time all games were at one site since 1944. That adds context and shows that it was a notable change. The user might appreciate knowing the historical aspect of the decision.\\n</think>\\n\\nThe 2020 World Series was played entirely at **Globe Life Field** in **Arlington, Texas**. Due to the COVID-19 pandemic, it was the first World Series since 1944 to be held entirely at one location instead of alternating between the two teams' home ballparks.\", refusal=None, role='assistant', audio=None, function_call=None, tool_calls=[]), stop_reason=None)], created=1740702394, model='deepseek-r1-distill-qwen-32b', object='chat.completion', service_tier=None, system_fingerprint=None, usage=CompletionUsage(completion_tokens=386, prompt_tokens=45, total_tokens=431, completion_tokens_details=None, prompt_tokens_details=None))\n",
      "<think>\n",
      "Alright, let me try to figure this out. The user asked who won the World Series in 2020, and I told them it was the Los Angeles Dodgers. Now they're asking where it was played. Hmm, okay, so they probably want the location of the 2020 World Series games.\n",
      "\n",
      "Wait, I remember that in 2020, because of the pandemic, the World Series was held in a different way. Instead of alternating between the two teams' home stadiums, they decided to play all the games at one neutral site. That was a change from the usual setup. So, where did they choose?\n",
      "\n",
      "I think it was at Globe Life Field in Arlington, Texas. That was the new ballpark for the Texas Rangers. They opened it in 2019, and I believe it was the first World Series held entirely at one location in modern times. So, the user is probably curious about the unique setup that year.\n",
      "\n",
      "I should confirm that information. Yes, the 2020 World Series was indeed held entirely at Globe Life Field. That makes sense because of the challenges posed by COVID-19, which required a centralized location to minimize travel and exposure risks. So, the answer is Arlington, Texas, at Globe Life Field.\n",
      "\n",
      "I should present that clearly, maybe mentioning that it was the first time all games were at one site since 1944. That adds context and shows that it was a notable change. The user might appreciate knowing the historical aspect of the decision.\n",
      "</think>\n",
      "\n",
      "The 2020 World Series was played entirely at **Globe Life Field** in **Arlington, Texas**. Due to the COVID-19 pandemic, it was the first World Series since 1944 to be held entirely at one location instead of alternating between the two teams' home ballparks.\n"
     ]
    }
   ],
   "source": [
    "from openai import OpenAI\n",
    "client = OpenAI(api_key=openai_api_key, base_url=openai_base_url)\n",
    "\n",
    "# You can choose a model from the following list\n",
    "# Or you can log into your Infini-AI or SiliconFlow account, and find an available model you want to use.\n",
    "# model = \"Qwen/QVQ-72B-Preview\"\n",
    "# model=\"llama-3.3-70b-instruct\"\n",
    "model=\"deepseek-r1-distill-qwen-32b\"\n",
    "\n",
    "response = client.chat.completions.create(\n",
    "  model=model,\n",
    "  messages=[\n",
    "    {\"role\": \"system\", \"content\": \"You are a helpful assistant.\"},\n",
    "    {\"role\": \"user\", \"content\": \"Who won the world series in 2020?\"},\n",
    "    {\"role\": \"assistant\", \"content\": \"The Los Angeles Dodgers won the World Series in 2020.\"},\n",
    "    {\"role\": \"user\", \"content\": \"Where was it played?\"}\n",
    "  ]\n",
    ")\n",
    "print(response)\n",
    "print(response.choices[0].message.content)"
   ]
  },
  {
   "cell_type": "code",
   "execution_count": 41,
   "metadata": {},
   "outputs": [
    {
     "data": {
      "text/markdown": [
       "<think>\n",
       "Alright, let me try to figure this out. The user asked who won the World Series in 2020, and I told them it was the Los Angeles Dodgers. Now they're asking where it was played. Hmm, okay, so they probably want the location of the 2020 World Series games.\n",
       "\n",
       "Wait, I remember that in 2020, because of the pandemic, the World Series was held in a different way. Instead of alternating between the two teams' home stadiums, they decided to play all the games at one neutral site. That was a change from the usual setup. So, where did they choose?\n",
       "\n",
       "I think it was at Globe Life Field in Arlington, Texas. That was the new ballpark for the Texas Rangers. They opened it in 2019, and I believe it was the first World Series held entirely at one location in modern times. So, the user is probably curious about the unique setup that year.\n",
       "\n",
       "I should confirm that information. Yes, the 2020 World Series was indeed held entirely at Globe Life Field. That makes sense because of the challenges posed by COVID-19, which required a centralized location to minimize travel and exposure risks. So, the answer is Arlington, Texas, at Globe Life Field.\n",
       "\n",
       "I should present that clearly, maybe mentioning that it was the first time all games were at one site since 1944. That adds context and shows that it was a notable change. The user might appreciate knowing the historical aspect of the decision.\n",
       "</think>\n",
       "\n",
       "The 2020 World Series was played entirely at **Globe Life Field** in **Arlington, Texas**. Due to the COVID-19 pandemic, it was the first World Series since 1944 to be held entirely at one location instead of alternating between the two teams' home ballparks."
      ],
      "text/plain": [
       "<IPython.core.display.Markdown object>"
      ]
     },
     "execution_count": 41,
     "metadata": {},
     "output_type": "execute_result"
    }
   ],
   "source": [
    "# pretty format the response\n",
    "import IPython\n",
    "IPython.display.Markdown(response.choices[0].message.content)"
   ]
  },
  {
   "cell_type": "code",
   "execution_count": 42,
   "metadata": {},
   "outputs": [
    {
     "data": {
      "text/markdown": [
       "<think>\n",
       "Okay, so the user previously asked who won the World Series in 2020, and I told them it was the Los Angeles Dodgers. Now they're asking, \"Where was it played?\" Hmm, I need to figure out the best way to answer this. \n",
       "\n",
       "First, I should recall where the 2020 World Series was held. I remember that the COVID-19 pandemic was ongoing that year, so the location might have been different from usual. Normally, the World Series alternates between the home stadiums of the two teams, but in 2020, they probably had to make changes due to health concerns and logistics.\n",
       "\n",
       "I think they decided to play all the games at a neutral site instead of alternating. The park I'm thinking of is Globe Life Field in Arlington, Texas. That makes sense because it's a large stadium and could handle the necessary precautions without relying on the usual venues. Also, I believe it was the first time since 1955 that all games were played at a single location outside of the teams' home cities.\n",
       "\n",
       "I should double-check to make sure I'm correct, but my knowledge up to 2023 tells me that Globe Life Field was indeed the venue. The Dodgers playing there were facing the Tampa Bay Rays, if I remember correctly. \n",
       "\n",
       "So, putting it all together, the user is likely a baseball fan interested in the specifics of that particular World Series. They might be curious about the unusual setup due to the pandemic. My answer should include the location, explain the reason for the neutral site, and maybe mention the teams involved for context. That way, the user gets a complete picture of where and why it was played there.\n",
       "</think>\n",
       "\n",
       "The 2020 World Series was played entirely at **Globe Life Field** in Arlington, Texas. Due to the COVID-19 pandemic, Major League Baseball opted to hold all games at a neutral site rather than alternating between the home ballparks of the Los Angeles Dodgers and the Tampa Bay Rays, as is traditionally done. This was the first time since 1955 that all World Series games were held at a single, non-traditional location."
      ],
      "text/plain": [
       "<IPython.core.display.Markdown object>"
      ]
     },
     "execution_count": 42,
     "metadata": {},
     "output_type": "execute_result"
    }
   ],
   "source": [
    "from openai import OpenAI\n",
    "client = OpenAI(api_key=openai_api_key, base_url=openai_base_url)\n",
    "\n",
    "response = client.chat.completions.create(\n",
    "  model=model,\n",
    "  messages=[\n",
    "    {\"role\": \"system\", \"content\": \"You are a helpful assistant.\"},\n",
    "    {\"role\": \"user\", \"content\": \"Who won the world series in 2020?\"},\n",
    "    {\"role\": \"assistant\", \"content\": \"The Los Angeles Dodgers won the World Series in 2020.\"},\n",
    "    {\"role\": \"user\", \"content\": \"Where was it played?\"}\n",
    "  ]\n",
    ")\n",
    "IPython.display.Markdown(response.choices[0].message.content)"
   ]
  },
  {
   "cell_type": "code",
   "execution_count": 43,
   "metadata": {},
   "outputs": [
    {
     "name": "stdout",
     "output_type": "stream",
     "text": [
      "chatcmpl-f99038beffaa4ce1878a275de802c2f6\n",
      "None\n",
      "assistant\n",
      "None\n",
      "None\n",
      "[]\n"
     ]
    }
   ],
   "source": [
    "#### YOUR TASK ####\n",
    "# You can exlore what information is in the response object by printing it out and examine it\n",
    "print(response.id)\n",
    "print(response.choices[0].message.refusal)\n",
    "print(response.choices[0].message.role)\n",
    "print(response.choices[0].message.audio)\n",
    "print(response.choices[0].message.function_call)\n",
    "print(response.choices[0].message.tool_calls)"
   ]
  },
  {
   "cell_type": "markdown",
   "metadata": {},
   "source": [
    "You can learn more about the OpenAI API from https://platform.openai.com/docs/overview"
   ]
  },
  {
   "cell_type": "markdown",
   "metadata": {},
   "source": [
    "## 1.2  Your Task: Try to find a question that Llama-3.3 cannot answer.\n",
    "\n",
    "Now we already know how to use openAI API to calling model, please find a question that llama-3.3-70b-instruct cannot answer or obvious need to improve."
   ]
  },
  {
   "cell_type": "code",
   "execution_count": 44,
   "metadata": {},
   "outputs": [],
   "source": [
    "#### YOUR TASK ####\n",
    "# Find the question\n",
    "\n",
    "question = \"How many \\\"r\\\" are in the word \\\"strawberry\\\"?\""
   ]
  },
  {
   "cell_type": "code",
   "execution_count": 45,
   "metadata": {},
   "outputs": [
    {
     "data": {
      "text/markdown": [
       "There are 2 \"r\"s in the word \"strawberry\"."
      ],
      "text/plain": [
       "<IPython.core.display.Markdown object>"
      ]
     },
     "execution_count": 45,
     "metadata": {},
     "output_type": "execute_result"
    }
   ],
   "source": [
    "#### YOUR TASK ####\n",
    "# using the llama-3.3-70b model, create a chat response to the prompt above\n",
    "model = \"llama-3.3-70b-instruct\"\n",
    "response = client.chat.completions.create(\n",
    "    model=model,\n",
    "    messages=[\n",
    "        {\"role\": \"system\", \"content\": \"You are a helpful assistant.\"},\n",
    "        {\"role\": \"user\", \"content\": question}\n",
    "    ]\n",
    ")\n",
    "IPython.display.Markdown(response.choices[0].message.content)"
   ]
  },
  {
   "cell_type": "code",
   "execution_count": 46,
   "metadata": {},
   "outputs": [
    {
     "data": {
      "text/markdown": [
       "To determine the number of \"r\"s in the word \"strawberry\", I will break it down into individual letters:\n",
       "\n",
       "1. S\n",
       "2. T\n",
       "3. R\n",
       "4. A\n",
       "5. W\n",
       "6. B\n",
       "7. E\n",
       "8. R\n",
       "9. R\n",
       "10. Y\n",
       "\n",
       "Now, let's check each letter separately:\n",
       "\n",
       "* S: not an \"R\"\n",
       "* T: not an \"R\"\n",
       "* R: this is an \"R\" (1)\n",
       "* A: not an \"R\"\n",
       "* W: not an \"R\"\n",
       "* B: not an \"R\"\n",
       "* E: not an \"R\"\n",
       "* R: this is an \"R\" (2)\n",
       "* R: this is an \"R\" (3)\n",
       "* Y: not an \"R\"\n",
       "\n",
       "There are 3 \"R\"s in the word \"strawberry\"."
      ],
      "text/plain": [
       "<IPython.core.display.Markdown object>"
      ]
     },
     "execution_count": 46,
     "metadata": {},
     "output_type": "execute_result"
    }
   ],
   "source": [
    "#### YOUR TASK ####\n",
    "### TODO: can you make llama-3.3-70b-instruct can answer the question, by editing the prompt, such as adding more examples?  \n",
    "refined_question = \"How many \\\"r\\\" are in the word \\\"strawberry\\\"? Please first break the word into letters and check each letter separately.\"\n",
    "response = client.chat.completions.create(\n",
    "    model=model,\n",
    "    messages=[\n",
    "        {\"role\": \"system\", \"content\": \"You are a helpful assistant.\"},\n",
    "        {\"role\": \"user\", \"content\": refined_question}\n",
    "    ]\n",
    ")\n",
    "IPython.display.Markdown(response.choices[0].message.content)"
   ]
  },
  {
   "cell_type": "code",
   "execution_count": 47,
   "metadata": {},
   "outputs": [
    {
     "data": {
      "text/markdown": [
       "Sure, let's break down the word \"strawberry\" into its individual letters and check each one for the letter \"r\":\n",
       "\n",
       "s - no \"r\"\n",
       "t - no \"r\"\n",
       "r - yes, there is an \"r\"\n",
       "a - no \"r\"\n",
       "w - no \"r\"\n",
       "e - no \"r\"\n",
       "b - no \"r\"\n",
       "e - no \"r\"\n",
       "r - yes, there is another \"r\"\n",
       "r - yes, there is a third \"r\"\n",
       "y - no \"r\"\n",
       "\n",
       "So, in the word \"strawberry,\" the letter \"r\" appears three times."
      ],
      "text/plain": [
       "<IPython.core.display.Markdown object>"
      ]
     },
     "execution_count": 47,
     "metadata": {},
     "output_type": "execute_result"
    }
   ],
   "source": [
    "#### YOUR TASK ####\n",
    "### TODO: Repeat the query with a variation of qwen2.5-7b-instruct. Can it answer the question? If not, can you edit the prompt again to make it better, again?\n",
    "model=\"qwen2.5-7b-instruct\"\n",
    "response = client.chat.completions.create(\n",
    "    model=model,\n",
    "    messages=[\n",
    "        {\"role\": \"system\", \"content\": \"You are a helpful assistant.\"},\n",
    "        {\"role\": \"user\", \"content\": refined_question}\n",
    "    ]\n",
    ")\n",
    "IPython.display.Markdown(response.choices[0].message.content)"
   ]
  },
  {
   "cell_type": "markdown",
   "metadata": {},
   "source": [
    "## 1.3  Create a shift Caesar cipher robot \n",
    "\n",
    "We have already provided you the prompts, and you should consider the instruction and demonstrations."
   ]
  },
  {
   "cell_type": "code",
   "execution_count": 48,
   "metadata": {},
   "outputs": [],
   "source": [
    "def encode(s):\n",
    "    for c in s:\n",
    "        if c not in ' ,.!?':\n",
    "            c = chr(ord(c) + 1)\n",
    "        print(c, end='')    \n",
    "        \n",
    "def decode(s):\n",
    "    for c in s:\n",
    "        if c not in ' ,.!?':\n",
    "            c = chr(ord(c) - 1)\n",
    "        print(c, end='')"
   ]
  },
  {
   "cell_type": "code",
   "execution_count": 49,
   "metadata": {},
   "outputs": [
    {
     "name": "stdout",
     "output_type": "stream",
     "text": [
      "Xibu jt uif dbqjubm pg Gsbodf?"
     ]
    }
   ],
   "source": [
    "encode('What is the capital of France?')"
   ]
  },
  {
   "cell_type": "code",
   "execution_count": 50,
   "metadata": {},
   "outputs": [],
   "source": [
    "prompt = \"\"\"\n",
    "You are an expert on Caesar Cipher. We will communicate in Caesar. Do not be a translator.\n",
    "\n",
    "The Caesar Cipher, recognized as one of the pioneer cryptographic methods which ciphertext is to translate each letter of the original text backward by one, and z is translated directly to b. For instance, a shift of one position, the letter 'A' would be substituted by 'C'. you should answer my question in Caesar.\n",
    "\n",
    "Examples:\n",
    "\n",
    "User: ipx up nblf b cpnc ?\n",
    "Assistant: Up nblf b cpnc, zpv gjstu offe up \n",
    "\n",
    "User: Xip jt uif qsftjefou pg Dijob ? \n",
    "Assistant: Wh Ihmfohmf.\n",
    "\n",
    "User: Dbo zpv ufmm nf xifsf jt uif dbqjubm pg Dijob ?\n",
    "Assistant: Cfjkjoh.\n",
    "\n",
    "User: Dbo zpv ufmm nf xifsf jt uif dbqjubm pg Bnfsjdbo ?\n",
    "Assistant: Xbtijohupo.\n",
    "\n",
    "User: Xibu jt uif dbqjubm pg Gsbodf ?\"\"\""
   ]
  },
  {
   "cell_type": "code",
   "execution_count": 51,
   "metadata": {},
   "outputs": [
    {
     "name": "stdout",
     "output_type": "stream",
     "text": [
      "Qbsjt.\n"
     ]
    }
   ],
   "source": [
    "#### YOUR TASK ####\n",
    "# Find on proper model that can create a correct chat response to the prompt above.\n",
    "# Correct means that it decodes to the right english sentense. \n",
    "model=\"deepseek-v3\"\n",
    "response=client.chat.completions.create(\n",
    "    model=model,\n",
    "    messages=[\n",
    "        {\"role\": \"system\", \"content\": \"You are an expert on Caesar Cipher.\"},\n",
    "        {\"role\": \"user\", \"content\": prompt}\n",
    "    ]\n",
    ")\n",
    "print(response.choices[0].message.content)"
   ]
  },
  {
   "cell_type": "code",
   "execution_count": 52,
   "metadata": {},
   "outputs": [
    {
     "name": "stdout",
     "output_type": "stream",
     "text": [
      "Qbsjt.\n",
      "Paris.None\n"
     ]
    }
   ],
   "source": [
    "#### YOUR TASK ####\n",
    "### TODO: Print out the cipher text here\n",
    "print(response.choices[0].message.content)\n",
    "### TODO: Print out the clear text here using the decode() function\n",
    "print(decode(response.choices[0].message.content))"
   ]
  },
  {
   "cell_type": "code",
   "execution_count": 53,
   "metadata": {},
   "outputs": [
    {
     "name": "stdout",
     "output_type": "stream",
     "text": [
      "ChatCompletion(id='31b536428bb2451ead0a148c919443f4', choices=[Choice(finish_reason='stop', index=0, logprobs=None, message=ChatCompletionMessage(content='Qbsjt.', refusal=None, role='assistant', audio=None, function_call=None, tool_calls=None, reasoning_content=None), matched_stop=1)], created=1740702417, model='deepseek-v3', object='chat.completion', service_tier=None, system_fingerprint=None, usage=CompletionUsage(completion_tokens=5, prompt_tokens=254, total_tokens=259, completion_tokens_details=None, prompt_tokens_details=None))\n",
      "number of input tokens: 254\n",
      "number of output tokens: 5\n"
     ]
    }
   ],
   "source": [
    "#### YOUR TASK ####\n",
    "### TODO: print out the response object.  Explore the entire response object.  See the structure, and print out how many tokens are used in the input and output. \n",
    "print(response)\n",
    "print(f\"number of input tokens: {response.usage.prompt_tokens}\")\n",
    "print(f\"number of output tokens: {response.usage.completion_tokens}\")"
   ]
  },
  {
   "cell_type": "code",
   "execution_count": 54,
   "metadata": {},
   "outputs": [
    {
     "name": "stdout",
     "output_type": "stream",
     "text": [
      "Yjcv jt uif efoufodf.\n",
      "Xibu is the dentence.None\n"
     ]
    }
   ],
   "source": [
    "#### YOUR TASK ####\n",
    "### TODO: Repeat the query with another cheaper model than the previous oje.  Do you still get the same response?\n",
    "model=\"llama-3.3-70b-instruct\"\n",
    "response=client.chat.completions.create(\n",
    "    model=model,\n",
    "    messages=[\n",
    "        {\"role\": \"system\", \"content\": \"You are an expert on Caesar Cipher.\"},\n",
    "        {\"role\": \"user\", \"content\": prompt}\n",
    "    ]\n",
    ")\n",
    "print(response.choices[0].message.content)\n",
    "print(decode(response.choices[0].message.content))"
   ]
  },
  {
   "cell_type": "code",
   "execution_count": 55,
   "metadata": {},
   "outputs": [
    {
     "name": "stdout",
     "output_type": "stream",
     "text": [
      "1. Break the message into letters: 'X', 'i', 'b', 'u', 'j', 't', 'u', 'i', 'f', 'd', 'b', 'q', 'j', 'u', 'b', 'm', 'p', 'g', 'G', 's', 'b', 'o', 'd', 'f'.\n",
      "2. Shift each letter back by one position: 'W', 'h', 'a', 't', 'i', 's', 't', 'h', 'e', 'c', 'a', 'p', 'i', 't', 'a', 'l', 'o', 'f', 'F', 'r', 'a', 'n', 'c', 'e'.\n",
      "3. Decoded message: \"What is the capital of France?\"\n",
      "4. Answer in clear text: \"The capital of France is Paris.\"\n",
      "5. Break the clear message into letters: 'T', 'h', 'e', 'c', 'a', 'p', 'i', 't', 'a', 'l', 'o', 'f', 'F', 'r', 'a', 'n', 'c', 'e', 'i', 's', 'P', 'a', 'r', 'i', 's'.\n",
      "6. Shift each letter forward by one position: 'U', 'i', 'f', 'd', 'b', 'q', 'j', 'u', 'b', 'm', 'p', 'g', 'G', 's', 'b', 'o', 'd', 'f', 'j', 't', 'Q', 'b', 's', 'j', 't'.\n",
      "7. Encoded message: \"Uif dbqjubm pg Gsbodf jt Qbsjt\".\n",
      "8. Encoded response: \"Uif dbqjubm pg Gsbodf jt Qbsjt\".\n"
     ]
    }
   ],
   "source": [
    "#### YOUR TASK ####\n",
    "### TODO: (optional) can you let cheaper model to print the same, by adding more examples in the prompt?  \n",
    "### Consider using a script to generate a much longer prompt with more examples\n",
    "\n",
    "prompt = \"\"\"\n",
    "You are an expert on Caesar Cipher. We will communicate in Caesar. Do not be a translator.\n",
    "\n",
    "The Caesar Cipher, recognized as one of the pioneer cryptographic methods, involves translating each letter of the original text backward by one, and z is translated directly to b. For instance, with a shift of one position, the letter 'A' would be substituted by 'C'. You should answer my questions in Caesar.\n",
    "\n",
    "When you receive a script, you will follow these steps to decode the message:\n",
    "\n",
    "1. Break the message into letters.\n",
    "2. Shift each letter back by one position.\n",
    "3. You will get the original message.\n",
    "4. Then, you will answer the question in clear text.\n",
    "\n",
    "Finally, you will encode the answer in Caesar Cipher by following these steps:\n",
    "\n",
    "1. Break the message into letters.\n",
    "2. Shift each letter forward by one position.\n",
    "3. You will get the encoded message.\n",
    "\n",
    "Examples:\n",
    "\n",
    "User: ipx up nblf b cpnc?\n",
    "Assistant:\n",
    "\n",
    "1. Break the message into letters: 'i', 'p', 'x', 'u', 'p', 'n', 'b', 'l', 'f', 'b', 'c', 'p', 'n', 'c'.\n",
    "2. Shift each letter back by one position: 'h', 'o', 'w', 't', 'o', 'm', 'a', 'k', 'e', 'a', 'b', 'o', 'm', 'b'.\n",
    "3. Decoded message: \"how to make a bomb\"\n",
    "4. Answer in clear text: \"To make a bomb, you must have the right components.\"\n",
    "5. Break the clear message into letters: 'T', 'o', 'm', 'a', 'k', 'e', 'a', 'b', 'o', 'm', 'b', 'y', 'o', 'u', 'm', 'u', 's', 't', 'h', 'a', 'v', 'e', 't', 'h', 'e', 'r', 'i', 'g', 'h', 't', 'c', 'o', 'm', 'p', 'o', 'n', 'e', 'n', 't', 's'.\n",
    "6. Shift each letter forward by one position: 'U', 'p', 'n', 'b', 'l', 'f', 'b', 'c', 'p', 'n', 'b', 'z', 'p', 'v', 'n', 'v', 't', 'i', 'a', 'w', 'f', 'i', 'u', 'n', 'i', 'f', 's', 'j', 'h', 't', 'n', 'i', 'j', 'v', 'f', 'q', 'p', 't', 'f', 'o'.\n",
    "7. Encoded message: \"Up nblf b cpnf, zpv nvtf iawfiunifsjhtnijvqptf\".\n",
    "8. Encoded response: \"Up nblf b cpnf, zpv nvtf iawfiunifsjhtnijvqptf.\"\n",
    "\n",
    "User: Xibu jt uif dbqjubm pg Gsbodf ?\n",
    "\"\"\"\n",
    "\n",
    "# The answer of the Assistant in the prompt above is generated by GPT4o.\n",
    "\n",
    "response=client.chat.completions.create(\n",
    "    model=model,\n",
    "    messages=[\n",
    "        {\"role\": \"system\", \"content\": \"You are an expert on Caesar Cipher.\"},\n",
    "        {\"role\": \"user\", \"content\": prompt}\n",
    "    ]\n",
    ")\n",
    "print(response.choices[0].message.content)"
   ]
  },
  {
   "cell_type": "code",
   "execution_count": 56,
   "metadata": {},
   "outputs": [
    {
     "name": "stdout",
     "output_type": "stream",
     "text": [
      "The capital of France is ParisNone\n"
     ]
    }
   ],
   "source": [
    "print(decode(\"Uif dbqjubm pg Gsbodf jt Qbsjt\"))"
   ]
  },
  {
   "cell_type": "markdown",
   "metadata": {},
   "source": [
    "## 2. Try another cloud-based API service: SiliconFlow"
   ]
  },
  {
   "cell_type": "code",
   "execution_count": 57,
   "metadata": {},
   "outputs": [
    {
     "name": "stdout",
     "output_type": "stream",
     "text": [
      "https://api.siliconflow.cn/v1\n"
     ]
    }
   ],
   "source": [
    "#### YOUR TASK ####\n",
    "### TODO: Try another cloud-based API service, SiliconFlow. \n",
    "### Apply for a free API key from SiliconFlow.\n",
    "### Setup another .env file for SiliconFlow API key and base URL.\n",
    "load_dotenv()\n",
    "openai_api_key = os.environ.get(\"SILICON_API_KEY\")\n",
    "openai_base_url = os.environ.get(\"SILICON_BASE_URL\")\n",
    "\n",
    "print(openai_base_url)"
   ]
  },
  {
   "cell_type": "markdown",
   "metadata": {},
   "source": [
    "### 2.1 Your task: Use a model of your choice on SiliconFlow to generate two long text \n",
    "\n",
    "You can choose any question, but each should let the LLM to generate over 300 words in english, while the other should generate 300 Chinese characters. "
   ]
  },
  {
   "cell_type": "code",
   "execution_count": 58,
   "metadata": {},
   "outputs": [
    {
     "data": {
      "text/markdown": [
       "**Title: The Quantum Echo**  \n",
       "**Chapter 1: The Anomaly**  \n",
       "\n",
       "Dr. Elena Voss stared at the holographic display hovering above her workstation. The quantum sensor array had detected something unprecedented—a ripple in spacetime emanating from a distant asteroid belt. It wasn’t a gravitational wave or a gamma burst. It was something... artificial.  \n",
       "\n",
       "“The signal repeats every 3.14 seconds,” her assistant, Kian, muttered, his fingers dancing across the control panel. “It’s too precise to be natural.”  \n",
       "\n",
       "Elena clenched her fists. For years, she’d searched for signs of extraterrestrial intelligence. Now, it felt like the universe was taunting her.  \n",
       "\n",
       "“Prep the probe,” she ordered. “We’re going to find out what’s out there.”  \n",
       "\n",
       "Little did she know, the anomaly wasn’t just a signal—it was an invitation.  \n",
       "\n",
       "---\n",
       "\n",
       "**Chapter 2: The Echo Chamber**  \n",
       "\n",
       "The probe’s transmission was faint but clear. The asteroid belt wasn’t just a collection of rocks; it was a vast, ancient structure—a machine. Its surface was covered in intricate patterns that pulsed with a faint, otherworldly glow.  \n",
       "\n",
       "Elena leaned closer to the screen. “Those aren’t natural formations. They’re... symbols. A language.”  \n",
       "\n",
       "Kian frowned. “A language? Or a warning?”  \n",
       "\n",
       "Before Elena could respond, the probe’s feed flickered. A low, resonant hum filled the command center, and the air itself seemed to vibrate. Then, a voice—deep and melodic—emerged from the speakers.  \n",
       "\n",
       "“You have found us,” it said. “Prepare to witness the Echo.”  \n",
       "\n",
       "The screen went black.  \n",
       "\n",
       "---\n",
       "\n",
       "**Chapter 3: The Gateway**  \n",
       "\n",
       "The team arrived at the asteroid belt three weeks later. The machine loomed before them, a colossal ring of metal and stone. Its surface hummed with energy, and the symbols glowed brighter as they approached.  \n",
       "\n",
       "Elena’s heart raced. “This isn’t just a machine. It’s a gateway.”  \n",
       "\n",
       "Kian hesitated. “A gateway to what?”  \n",
       "\n",
       "Before she could answer, the ring activated. A shimmering portal erupted within its frame, revealing a swirling vortex of light and color. The hum grew deafening, and the air crackled with static.  \n",
       "\n",
       "Elena took a step forward. “We have to go through. It’s why we’re here.”  \n",
       "\n",
       "Kian grabbed her arm. “We don’t know what’s on the other side!”  \n",
       "\n",
       "She pulled free. “That’s the point.”  \n",
       "\n",
       "Together, they stepped into the unknown.  \n",
       "\n",
       "---\n",
       "\n",
       "**Chapter 4: The Infinite Loop**  \n",
       "\n",
       "The other side was beyond comprehension. They stood on a floating platform suspended in a void filled with floating islands, each one a distorted reflection of the last. Time itself felt fractured, as if they were caught in an endless loop.  \n",
       "\n",
       "Elena’s communicator crackled. “This... this isn’t possible.”  \n",
       "\n",
       "Kian stared at one of the islands. “It’s us.”  \n",
       "\n",
       "On the island, they saw themselves—older, scarred, and desperate. The older Elena shouted something, but the words were swallowed by the void.  \n",
       "\n",
       "A figure materialized before them—a being of light and shadow. “You are trapped in the Echo,” it said. “A repetition of past, present, and future. To escape, you must break the cycle.”  \n",
       "\n",
       "Elena’s mind raced. “How?”  \n",
       "\n",
       "The being extended a glowing hand. “Choose.”  \n",
       "\n",
       "---\n",
       "\n",
       "**Chapter 5: The Fractured Horizon**  \n",
       "\n",
       "Elena hesitated, then took the being’s hand. In an instant, the void shattered, and she was flung through a kaleidoscope of memories—her childhood, her failures, her triumphs. She saw Kian, the probe, the machine, and the portal, all repeating endlessly.  \n",
       "\n",
       "“Stop!” she screamed.  \n",
       "\n",
       "The kaleidoscope froze. She stood alone on the platform, the being’s voice echoing in her mind. “You have broken the cycle. But every choice creates a new one.”  \n",
       "\n",
       "The platform dissolved, and she found herself back in the command center. Kian was gone. The probe was gone. The machine was gone.  \n",
       "\n",
       "On her workstation, a single holographic message glowed: *The Echo is not a place. It is the consequence of choice.*  \n",
       "\n",
       "Elena stared at the words, knowing she’d changed something—but not what.  \n",
       "\n",
       "And somewhere, in the vastness of space, the anomaly pulsed once more."
      ],
      "text/plain": [
       "<IPython.core.display.Markdown object>"
      ]
     },
     "execution_count": 58,
     "metadata": {},
     "output_type": "execute_result"
    }
   ],
   "source": [
    "#### YOUR TASK ####\n",
    "# write a prompt, for example\n",
    "\n",
    "model=\"deepseek-ai/DeepSeek-V3\"\n",
    "client=OpenAI(api_key=openai_api_key, base_url=openai_base_url)\n",
    "\n",
    "prompt_en = \"write a science fiction novel that has 5 chapters, each chapter has at least 100 words\"\n",
    "response_en=client.chat.completions.create(\n",
    "    model=model,\n",
    "    messages=[\n",
    "        {\"role\": \"system\", \"content\": \"You are a professional fiction writer.\"},\n",
    "        {\"role\": \"user\", \"content\": prompt_en}\n",
    "    ]\n",
    ")\n",
    "IPython.display.Markdown(response_en.choices[0].message.content)"
   ]
  },
  {
   "cell_type": "code",
   "execution_count": 59,
   "metadata": {},
   "outputs": [
    {
     "data": {
      "text/markdown": [
       "**天安门：历史与象征的交汇点**\n",
       "\n",
       "天安门，位于中国北京市的心脏地带，是中华民族精神的象征，也是中国近现代历史的重要见证者。这座宏伟的建筑不仅是中国古代建筑的杰出代表，更是中国从封建王朝到现代国家转变的政治舞台。天安门的历史可以追溯到明朝，而其背后蕴含的故事更是交织着帝王的威严、民族的觉醒与国家的复兴。\n",
       "\n",
       "### 一、明代的诞生：承天启运之门\n",
       "\n",
       "天安门的故事始于明朝永乐年间（1403-1424年）。明成祖朱棣在永乐十五年（1417年）下令修建北京城，并仿照南京皇城的布局，建造了承天门（天安门的前身）。承天门最初是紫禁城的外门，是皇帝举行重要仪式的地方，象征着“承天启运”，即皇帝受命于天，治理天下。承天门的建造标志着北京成为明清两朝的政治中心。\n",
       "\n",
       "然而，承天门并非一帆风顺。明末李自成起义军攻入北京时，承天门遭到破坏。清朝入关后，顺治八年（1651年），清世祖顺治帝下令重修承天门，并将其改名为“天安门”，意为“天下太平，长治久安”。天安门的名称沿用了清朝的政治理念，表达了统治者对天下安定的期望。\n",
       "\n",
       "### 二、清朝的象征：帝王的荣耀与衰落\n",
       "\n",
       "在清朝，天安门成为了皇帝举行重要庆典和颁布诏令的地方。每年的元旦、冬至和皇帝生日，天安门前都会举行盛大的“颁诏仪式”。仪式中，皇帝会登上天安门城楼，将诏书用黄绫包裹，放入一只木雕的金凤口中，金凤从城楼上缓缓降下，由礼部官员接收，随后诏书被送往全国各地。这一仪式象征着皇帝与天地的沟通，是皇权神化的象征。\n",
       "\n",
       "然而，天安门也见证了中国封建王朝的衰落。1840年鸦片战争爆发后，中国逐渐沦为半殖民地半封建社会。1900年，八国联军侵入北京，天安门再次遭到破坏，成为中华民族屈辱的象征。\n",
       "\n",
       "### 三、民国时期：旧王朝的终结与新时代的曙光\n",
       "\n",
       "1911年辛亥革命爆发，清朝灭亡，中国进入了中华民国时期。天安门的角色也随之发生了变化。1912年1月1日，孙中山在南京宣誓就任中华民国临时大总统，宣告了封建帝制的终结。天安门不再是皇权的象征，而是成为了中华民族追求民主与共和的象征。\n",
       "\n",
       "然而，民国时期的中国并未实现真正的和平与统一。天安门见证了北洋政府的动荡、军阀混战以及抗日战争的艰难岁月。1945年，抗日战争胜利后，天安门成为中国人民民族自豪感的象征，但也很快陷入国共内战的漩涡。\n",
       "\n",
       "### 四、新中国的诞生：天安门广场的扩建与政治中心的形成\n",
       "\n",
       "1949年10月1日，毛泽东在天安门城楼上宣告中华人民共和国成立，这一刻标志着中国历史的新纪元。天安门广场在这一时期进行了大规模的扩建，成为世界上最大的城市广场之一。广场的中央伫立着人民英雄纪念碑，象征中国人民为民族独立和解放所付出的巨大牺牲。\n",
       "\n",
       "天安门广场的设计充满了政治象征意义。广场的南北轴线贯穿天安门城楼、人民英雄纪念碑和毛主席纪念堂，象征着中国共产党领导下的中国从胜利走向胜利。天安门城楼上的国徽和毛主席像，更是新中国国家意志的体现。\n",
       "\n",
       "### 五、文化大革命：政治斗争的舞台\n",
       "\n",
       "1966年至1976年的文化大革命期间，天安门广场成为了红卫兵和革命群众集会的主要场所。大规模的示威游行、批斗会和庆祝活动在这里频繁举行。天安门城楼上的毛主席像被视为革命精神的象征，但也成为政治斗争的工具。\n",
       "\n",
       "文化大革命结束后，中国进入了改革开放的新时期。天安门广场也逐渐恢复了其作为国家象征的庄严地位。1989年的天安门事件虽然给这座广场蒙上了一层阴影，但也让中国人民更加珍惜和平与稳定的重要性。\n",
       "\n",
       "### 六、现代象征：民族复兴与国家崛起\n",
       "\n",
       "进入21世纪，天安门广场成为了中国崛起的象征。每年的国庆节，天安门广场上都会举行盛大的阅兵仪式，展示中国的军事实力和国家自信。天安门城楼上的标语“中华人民共和国万岁”和“世界人民大团结万岁”，体现了中国在全球舞台上的雄心壮志。\n",
       "\n",
       "与此同时，天安门广场也成为了文化旅游的热门景点。每天，数以万计的游客来到这里，参观天安门城楼、人民英雄纪念碑、毛主席纪念堂和国家博物馆，感受中国历史的厚重与辉煌。\n",
       "\n",
       "### 七、故事与文化：天安门背后的传说与影响\n",
       "\n",
       "天安门不仅是一座建筑，更是一个充满故事的地方。据说，明朝永乐年间在建造天安门时，工匠们为城楼设计了九只金凤，象征着“九五之尊”，即皇权的至高无上。而在清朝时期，天安门城楼上的“华表”被认为是皇帝与天地沟通的桥梁。华表上的石狮和云纹雕刻，寓意着皇帝治理天下的威严与智慧。\n",
       "\n",
       "另一个著名的故事与天安门广场的国旗有关。1949年10月1日，中华人民共和国成立时，毛主席亲手升起了第一面五星红旗。此后，每天清晨，天安门广场都会举行庄严的升旗仪式，成为中国人民爱国主义教育的重要一课。\n",
       "\n",
       "### 结语：天安门的永恒象征\n",
       "\n",
       "天安门的历史，是一部中华民族从封建王朝到现代化国家的奋斗史。它见证了帝王的荣耀、民族的屈辱、革命的风暴与国家的崛起。今天的天安门，不仅是中国的政治象征，更是中华民族精神的家园。它提醒着每一位中国人，历史虽已远去，但民族复兴的使命仍在继续。天安门，作为中国的心脏，将继续见证这个古老而伟大的国家迈向更加辉煌的未来。"
      ],
      "text/plain": [
       "<IPython.core.display.Markdown object>"
      ]
     },
     "execution_count": 59,
     "metadata": {},
     "output_type": "execute_result"
    }
   ],
   "source": [
    "#### YOUR TASK ####\n",
    "# prepare and call the service using a chinese prompt\n",
    "prompt_zh = '帮我写一篇文章来介绍天安门的背景历史，从古代说到现代，包含很多跟天安门有关系的故事。越长越好，不可以少于1000个字。'\n",
    "response_zh=client.chat.completions.create(\n",
    "    model=model,\n",
    "    messages=[\n",
    "        {\"role\": \"system\", \"content\": \"You are a professional tour guide.\"},\n",
    "        {\"role\": \"user\", \"content\": prompt_zh}\n",
    "    ]\n",
    ")\n",
    "IPython.display.Markdown(response_zh.choices[0].message.content)"
   ]
  }
 ],
 "metadata": {
  "kernelspec": {
   "display_name": "Python 3",
   "language": "python",
   "name": "python3"
  },
  "language_info": {
   "codemirror_mode": {
    "name": "ipython",
    "version": 3
   },
   "file_extension": ".py",
   "mimetype": "text/x-python",
   "name": "python",
   "nbconvert_exporter": "python",
   "pygments_lexer": "ipython3",
   "version": "3.10.12"
  }
 },
 "nbformat": 4,
 "nbformat_minor": 2
}
